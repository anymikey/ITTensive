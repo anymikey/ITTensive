{
 "cells": [
  {
   "cell_type": "code",
   "execution_count": 1,
   "id": "be136e43-693e-441b-aa46-d69a1f890b26",
   "metadata": {},
   "outputs": [],
   "source": [
    "%matplotlib inline\n",
    "import numpy as np\n",
    "import pandas as pd\n",
    "from sklearn.model_selection import train_test_split"
   ]
  },
  {
   "cell_type": "code",
   "execution_count": 3,
   "id": "5d1e8686-e97d-4412-80d5-51bd372fe587",
   "metadata": {},
   "outputs": [
    {
     "name": "stdout",
     "output_type": "stream",
     "text": [
      "      building_id  meter           timestamp  meter_reading  hour\n",
      "704             0      0 2016-01-30 08:00:00        43.6839     8\n",
      "725             0      0 2016-01-31 05:00:00        37.5408     5\n",
      "737             0      0 2016-01-31 17:00:00        52.5571    17\n",
      "2366            0      0 2016-04-08 14:00:00        59.3827    14\n",
      "2923            0      0 2016-05-01 19:00:00       448.0000    19\n"
     ]
    }
   ],
   "source": [
    "energy_0 = pd.read_csv('http://video.ittensive.com/machine-learning/ashrae/train.0.0.csv.gz')\n",
    "energy_0 = energy_0[energy_0['meter_reading']>0]\n",
    "energy_0['timestamp'] = pd.to_datetime(energy_0['timestamp'])\n",
    "energy_0['hour'] = energy_0['timestamp'].dt.hour\n",
    "print(energy_0.head())"
   ]
  },
  {
   "cell_type": "code",
   "execution_count": 5,
   "id": "a5d2a8fb-30a0-4545-87e9-c68ea9268c44",
   "metadata": {},
   "outputs": [
    {
     "name": "stdout",
     "output_type": "stream",
     "text": [
      "      building_id  meter           timestamp  meter_reading  hour\n",
      "7479            0      0 2016-11-07 15:00:00        174.735    15\n",
      "6843            0      0 2016-10-12 03:00:00        274.389     3\n",
      "4992            0      0 2016-07-27 00:00:00        311.248     0\n",
      "5444            0      0 2016-08-14 20:00:00        309.200    20\n",
      "4115            0      0 2016-06-20 11:00:00        251.865    11\n"
     ]
    }
   ],
   "source": [
    "energy_0_train, energy_0_test = train_test_split(energy_0, test_size=0.2)\n",
    "print(energy_0_train.head())"
   ]
  },
  {
   "cell_type": "code",
   "execution_count": 9,
   "id": "4be1da53-c2b9-4fc9-9203-44f22d35574b",
   "metadata": {},
   "outputs": [
    {
     "name": "stdout",
     "output_type": "stream",
     "text": [
      "         Average    Median\n",
      "hour                      \n",
      "0     238.911018  239.5790\n",
      "1     241.060805  240.9440\n",
      "2     235.922109  240.2610\n",
      "3     237.228865  243.6740\n",
      "4     239.553122  245.0390\n",
      "5     240.168124  246.0630\n",
      "6     237.033603  243.6740\n",
      "7     238.986132  245.0390\n",
      "8     243.761231  238.5550\n",
      "9     233.997034  234.1180\n",
      "10    232.980552  238.2140\n",
      "11    237.947219  242.3090\n",
      "12    235.682894  242.3090\n",
      "13    236.645099  244.0155\n",
      "14    234.883149  241.2850\n",
      "15    238.326671  243.6740\n",
      "16    237.138328  242.9910\n",
      "17    233.269825  239.5790\n",
      "18    237.233520  239.5790\n",
      "19    238.693770  238.2140\n",
      "20    235.623598  237.1895\n",
      "21    235.149713  236.8480\n",
      "22    237.320103  236.8480\n",
      "23    239.732882  240.9440\n"
     ]
    }
   ],
   "source": [
    "energy_0_train_hours = energy_0_train.groupby('hour')\n",
    "energy_0_train_averages = pd.DataFrame(\n",
    "    {'Average': energy_0_train_hours.mean()['meter_reading'],\n",
    "    'Median': energy_0_train_hours.median()['meter_reading']}\n",
    ")\n",
    "print(energy_0_train_averages)"
   ]
  },
  {
   "cell_type": "code",
   "execution_count": 10,
   "id": "8959e59f-a915-4ae3-a536-678ad8a4d636",
   "metadata": {},
   "outputs": [
    {
     "name": "stdout",
     "output_type": "stream",
     "text": [
      "      building_id  meter           timestamp  meter_reading  hour  \\\n",
      "7251            0      0 2016-10-29 03:00:00        212.959     3   \n",
      "4414            0      0 2016-07-02 22:00:00        250.500    22   \n",
      "7741            0      0 2016-11-18 13:00:00        177.466    13   \n",
      "4727            0      0 2016-07-15 23:00:00        236.848    23   \n",
      "3616            0      0 2016-05-30 16:00:00        177.466    16   \n",
      "\n",
      "      meter_reading_mean_q  meter_reading_median_q  meter_reading_zero_q  \n",
      "7251              0.011545                0.017994             28.791642  \n",
      "4414              0.002897                0.003115             30.552626  \n",
      "7741              0.082014                0.100440             26.877984  \n",
      "4727              0.000145                0.000292             29.938755  \n",
      "3616              0.083205                0.097802             26.877984  \n"
     ]
    }
   ],
   "source": [
    "def calculate_model(x):\n",
    "    meter_reading_log = np.log(x.meter_reading + 1)\n",
    "    meter_reading_mean = np.log(energy_0_train_averages['Average'][x.hour] + 1)\n",
    "    meter_reading_median = np.log(energy_0_train_averages['Median'][x.hour] + 1)\n",
    "    x['meter_reading_mean_q'] = (meter_reading_log - meter_reading_mean)**2\n",
    "    x['meter_reading_median_q'] = (meter_reading_log - meter_reading_median)**2\n",
    "    x['meter_reading_zero_q'] = (meter_reading_log)**2\n",
    "    return x\n",
    "\n",
    "energy_0_test = energy_0_test.apply(calculate_model, axis=1, result_type='expand')\n",
    "print(energy_0_test.head())"
   ]
  },
  {
   "cell_type": "code",
   "execution_count": 13,
   "id": "bd30b8ac-f303-492e-bbc9-e24d20598d8e",
   "metadata": {},
   "outputs": [
    {
     "name": "stdout",
     "output_type": "stream",
     "text": [
      "Average quality: 0.2440326816835114\n",
      "Median quality: 0.2453967811241285\n",
      "Zero quality: 5.461812550492672\n"
     ]
    }
   ],
   "source": [
    "energy_0_test_mean_rmsle = np.sqrt(energy_0_test['meter_reading_mean_q'].sum() / len(energy_0_test))\n",
    "energy_0_test_median_rmsle = np.sqrt(energy_0_test['meter_reading_median_q'].sum() / len(energy_0_test))\n",
    "energy_0_test_zero_rmsle = np.sqrt(energy_0_test['meter_reading_zero_q'].sum() / len(energy_0_test))\n",
    "print('Average quality:', energy_0_test_mean_rmsle)\n",
    "print('Median quality:', energy_0_test_median_rmsle)\n",
    "print('Zero quality:', energy_0_test_zero_rmsle)"
   ]
  },
  {
   "cell_type": "code",
   "execution_count": null,
   "id": "dd0417c9-c249-4e5f-9e41-dbdb3e51179b",
   "metadata": {},
   "outputs": [],
   "source": []
  }
 ],
 "metadata": {
  "kernelspec": {
   "display_name": "Python 3 (ipykernel)",
   "language": "python",
   "name": "python3"
  },
  "language_info": {
   "codemirror_mode": {
    "name": "ipython",
    "version": 3
   },
   "file_extension": ".py",
   "mimetype": "text/x-python",
   "name": "python",
   "nbconvert_exporter": "python",
   "pygments_lexer": "ipython3",
   "version": "3.12.4"
  }
 },
 "nbformat": 4,
 "nbformat_minor": 5
}
