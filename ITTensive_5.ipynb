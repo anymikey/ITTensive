{
 "cells": [
  {
   "cell_type": "code",
   "execution_count": 2,
   "id": "a24888d5-e78b-4a14-9ef3-fb5e87941e2a",
   "metadata": {},
   "outputs": [],
   "source": [
    "import pandas as pd\n",
    "import numpy as np"
   ]
  },
  {
   "cell_type": "code",
   "execution_count": 3,
   "id": "81ca2b25-8973-442a-a7a7-d7e0e1c2116d",
   "metadata": {},
   "outputs": [
    {
     "name": "stdout",
     "output_type": "stream",
     "text": [
      "Machine parameters for float16\n",
      "---------------------------------------------------------------\n",
      "precision =   3   resolution = 1.00040e-03\n",
      "machep =    -10   eps =        9.76562e-04\n",
      "negep =     -11   epsneg =     4.88281e-04\n",
      "minexp =    -14   tiny =       6.10352e-05\n",
      "maxexp =     16   max =        6.55040e+04\n",
      "nexp =        5   min =        -max\n",
      "smallest_normal = 6.10352e-05   smallest_subnormal = 5.96046e-08\n",
      "---------------------------------------------------------------\n",
      "\n",
      "Machine parameters for float32\n",
      "---------------------------------------------------------------\n",
      "precision =   6   resolution = 1.0000000e-06\n",
      "machep =    -23   eps =        1.1920929e-07\n",
      "negep =     -24   epsneg =     5.9604645e-08\n",
      "minexp =   -126   tiny =       1.1754944e-38\n",
      "maxexp =    128   max =        3.4028235e+38\n",
      "nexp =        8   min =        -max\n",
      "smallest_normal = 1.1754944e-38   smallest_subnormal = 1.4012985e-45\n",
      "---------------------------------------------------------------\n",
      "\n",
      "Machine parameters for int8\n",
      "---------------------------------------------------------------\n",
      "min = -128\n",
      "max = 127\n",
      "---------------------------------------------------------------\n",
      "\n",
      "Machine parameters for int16\n",
      "---------------------------------------------------------------\n",
      "min = -32768\n",
      "max = 32767\n",
      "---------------------------------------------------------------\n",
      "\n",
      "Machine parameters for int32\n",
      "---------------------------------------------------------------\n",
      "min = -2147483648\n",
      "max = 2147483647\n",
      "---------------------------------------------------------------\n",
      "\n"
     ]
    }
   ],
   "source": [
    "for type_ in ['f2', 'f4']:\n",
    "    print (np.finfo(type_))\n",
    "for type_ in ['i1', 'i2', 'i4']:\n",
    "    print (np.iinfo(type_))"
   ]
  },
  {
   "cell_type": "code",
   "execution_count": 4,
   "id": "88e73a15-4a2a-4a6c-a341-f52fb9ed09b7",
   "metadata": {},
   "outputs": [],
   "source": [
    "buildings = pd.read_csv('http://video.ittensive.com/machine-learning/ashrae/building_metadata.csv.gz')\n",
    "weather = pd.read_csv('http://video.ittensive.com/machine-learning/ashrae/weather_train.csv.gz')\n",
    "energy = pd.read_csv('http://video.ittensive.com/machine-learning/ashrae/train.0.csv.gz')"
   ]
  },
  {
   "cell_type": "code",
   "execution_count": 5,
   "id": "7ffa64ef-c474-47b5-94f6-615828937627",
   "metadata": {},
   "outputs": [
    {
     "name": "stdout",
     "output_type": "stream",
     "text": [
      "Buildings 0.06645584106445312 Mb\n",
      "Weather 9.597576141357422 Mb\n",
      "Energy usage 368.0698890686035 Mb\n"
     ]
    }
   ],
   "source": [
    "print('Buildings', buildings.memory_usage().sum() / 1024**2, \"Mb\")\n",
    "print('Weather', weather.memory_usage().sum() / 1024**2, \"Mb\")\n",
    "print('Energy usage', energy.memory_usage().sum() / 1024**2, \"Mb\")"
   ]
  },
  {
   "cell_type": "code",
   "execution_count": 6,
   "id": "8bb1f8dd-190b-4805-9d25-a31deb2f44d7",
   "metadata": {},
   "outputs": [],
   "source": [
    "def reduce_memory_usage(df):\n",
    "    start_mem = df.memory_usage().sum() / 1024**2\n",
    "    for col in df.columns:\n",
    "        col_type = df[col].dtypes\n",
    "        if str(col_type)[:5] == 'float':\n",
    "            c_min = df[col].min()\n",
    "            c_max = df[col].max()\n",
    "            if c_min > np.finfo('f2').min and c_max < np.finfo('f2').max:\n",
    "                df[col] = df[col].astype(np.float16)\n",
    "            elif c_min > np.finfo('f4').min and c_max < np.finfo('f4').max:\n",
    "                df[col] = df[col].astype(np.float32)\n",
    "            else:\n",
    "                df[col] = df[col].astype(np.float64)\n",
    "        elif str(col_type)[:3] == 'int':\n",
    "            c_min = df[col].min()\n",
    "            c_max = df[col].max()\n",
    "            if c_min > np.iinfo('i1').min and c_max < np.iinfo('i1').max:\n",
    "                df[col] = df[col].astype(np.int8)\n",
    "            elif c_min > np.iinfo('i2').min and c_max < np.iinfo('i2').max:\n",
    "                df[col] = df[col].astype(np.int16)\n",
    "            elif c_min > np.iinfo('i4').min and c_max < np.iinfo('i4').max:\n",
    "                df[col] = df[col].astype(np.int32)\n",
    "            else:\n",
    "                df[col] = df[col].astype(np.int64)\n",
    "        elif col == 'timestamp':\n",
    "            df[col] = pd.to_datetime(df[col])\n",
    "        elif str(col_type)[:8] != 'datetime':\n",
    "            df[col] = df[col].astype('category')\n",
    "    end_mem = df.memory_usage().sum() / 1024**2\n",
    "    print(\"Data usage is less about\", round(start_mem - end_mem, 2), \"Mb (-\", round(100* (start_mem - end_mem) / start_mem, 1), \"%)\")\n",
    "    return df"
   ]
  },
  {
   "cell_type": "code",
   "execution_count": 7,
   "id": "ee438fff-ab36-4016-8afe-b43d3aede26e",
   "metadata": {},
   "outputs": [
    {
     "name": "stdout",
     "output_type": "stream",
     "text": [
      "Data usage is less about 0.05 Mb (- 73.9 %)\n",
      "<class 'pandas.core.frame.DataFrame'>\n",
      "RangeIndex: 1449 entries, 0 to 1448\n",
      "Data columns (total 6 columns):\n",
      " #   Column       Non-Null Count  Dtype   \n",
      "---  ------       --------------  -----   \n",
      " 0   site_id      1449 non-null   int8    \n",
      " 1   building_id  1449 non-null   int16   \n",
      " 2   primary_use  1449 non-null   category\n",
      " 3   square_feet  1449 non-null   int32   \n",
      " 4   year_built   675 non-null    float16 \n",
      " 5   floor_count  355 non-null    float16 \n",
      "dtypes: category(1), float16(2), int16(1), int32(1), int8(1)\n",
      "memory usage: 17.8 KB\n",
      "None\n"
     ]
    }
   ],
   "source": [
    "buildings = reduce_memory_usage(buildings)\n",
    "print(buildings.info())"
   ]
  },
  {
   "cell_type": "code",
   "execution_count": 8,
   "id": "d159226a-8910-4a6e-8aff-7681b588cd5c",
   "metadata": {},
   "outputs": [
    {
     "name": "stdout",
     "output_type": "stream",
     "text": [
      "Data usage is less about 6.53 Mb (- 68.1 %)\n",
      "<class 'pandas.core.frame.DataFrame'>\n",
      "RangeIndex: 139773 entries, 0 to 139772\n",
      "Data columns (total 9 columns):\n",
      " #   Column              Non-Null Count   Dtype         \n",
      "---  ------              --------------   -----         \n",
      " 0   site_id             139773 non-null  int8          \n",
      " 1   timestamp           139773 non-null  datetime64[ns]\n",
      " 2   air_temperature     139718 non-null  float16       \n",
      " 3   cloud_coverage      70600 non-null   float16       \n",
      " 4   dew_temperature     139660 non-null  float16       \n",
      " 5   precip_depth_1_hr   89484 non-null   float16       \n",
      " 6   sea_level_pressure  129155 non-null  float16       \n",
      " 7   wind_direction      133505 non-null  float16       \n",
      " 8   wind_speed          139469 non-null  float16       \n",
      "dtypes: datetime64[ns](1), float16(7), int8(1)\n",
      "memory usage: 3.1 MB\n",
      "None\n"
     ]
    }
   ],
   "source": [
    "weather = reduce_memory_usage(weather)\n",
    "print(weather.info())"
   ]
  },
  {
   "cell_type": "code",
   "execution_count": 8,
   "id": "e918ef24-304e-48b4-8e58-ba0fe79c732b",
   "metadata": {},
   "outputs": [
    {
     "name": "stdout",
     "output_type": "stream",
     "text": [
      "Data usage is less about 195.54 Mb (- 53.1 %)\n",
      "<class 'pandas.core.frame.DataFrame'>\n",
      "RangeIndex: 12060910 entries, 0 to 12060909\n",
      "Data columns (total 4 columns):\n",
      " #   Column         Dtype         \n",
      "---  ------         -----         \n",
      " 0   building_id    int16         \n",
      " 1   meter          int8          \n",
      " 2   timestamp      datetime64[ns]\n",
      " 3   meter_reading  float32       \n",
      "dtypes: datetime64[ns](1), float32(1), int16(1), int8(1)\n",
      "memory usage: 172.5 MB\n",
      "None\n"
     ]
    }
   ],
   "source": [
    "energy = reduce_memory_usage(energy)\n",
    "print(energy.info())"
   ]
  },
  {
   "cell_type": "code",
   "execution_count": 9,
   "id": "12625e67-485a-4382-b61c-b5d007436fb4",
   "metadata": {},
   "outputs": [
    {
     "name": "stdout",
     "output_type": "stream",
     "text": [
      "<class 'pandas.core.frame.DataFrame'>\n",
      "RangeIndex: 12060910 entries, 0 to 12060909\n",
      "Data columns (total 14 columns):\n",
      " #   Column              Dtype   \n",
      "---  ------              -----   \n",
      " 0   timestamp           object  \n",
      " 1   building_id         int64   \n",
      " 2   meter_reading       float64 \n",
      " 3   primary_use         category\n",
      " 4   square_feet         int32   \n",
      " 5   year_built          float16 \n",
      " 6   floor_count         float16 \n",
      " 7   air_temperature     float16 \n",
      " 8   cloud_coverage      float16 \n",
      " 9   dew_temperature     float16 \n",
      " 10  precip_depth_1_hr   float16 \n",
      " 11  sea_level_pressure  float16 \n",
      " 12  wind_direction      float16 \n",
      " 13  wind_speed          float16 \n",
      "dtypes: category(1), float16(9), float64(1), int32(1), int64(1), object(1)\n",
      "memory usage: 540.6+ MB\n",
      "None\n"
     ]
    }
   ],
   "source": [
    "energy = pd.merge(left=energy, right=buildings, how='left',\n",
    "                   left_on='building_id', right_on='building_id')\n",
    "energy = pd.merge(left=energy.set_index(['timestamp', 'site_id']),\n",
    "                  right=weather.set_index(['timestamp', 'site_id']),\n",
    "                  how='left', left_index=True, right_index=True)\n",
    "energy.reset_index(inplace=True)\n",
    "energy = energy.drop(columns=['site_id', 'meter'], axis=1)\n",
    "print (energy.info())"
   ]
  },
  {
   "cell_type": "code",
   "execution_count": 10,
   "id": "0906d60a-fc95-4767-a9a2-fd5a97fcde41",
   "metadata": {},
   "outputs": [
    {
     "name": "stdout",
     "output_type": "stream",
     "text": [
      "wind speed: [np.float16(nan)]\n",
      "cloud coverage: [np.float16(nan)]\n",
      "precip depth: [np.float16(nan)]\n"
     ]
    }
   ],
   "source": [
    "print ('wind speed:', sorted(energy['wind_speed'].unique()))\n",
    "print ('cloud coverage:', sorted(energy['cloud_coverage'].unique()))\n",
    "print ('precip depth:', sorted(energy['precip_depth_1_hr'].unique()))"
   ]
  },
  {
   "cell_type": "code",
   "execution_count": 11,
   "id": "59830dfd-b586-4532-aa44-3a713db4132a",
   "metadata": {},
   "outputs": [],
   "source": [
    "def round_fillna(df, columns):\n",
    "    for col in columns:\n",
    "        type_ = 'int8'\n",
    "        if col in ['wind_direction', 'year_built', 'precip_depth_1_hr']:\n",
    "            type_ = 'int16'\n",
    "        if col == 'precip_depth_1_hr':\n",
    "            df[col] = df[col].apply(lambda x: 0 if x<0 else x)\n",
    "        df[col] = np.round(df[col].fillna(value=0)).astype(type_)\n",
    "    return df"
   ]
  },
  {
   "cell_type": "code",
   "execution_count": 12,
   "id": "88203244-c46e-48ce-9fd6-13ce19be4368",
   "metadata": {},
   "outputs": [
    {
     "name": "stdout",
     "output_type": "stream",
     "text": [
      "<class 'pandas.core.frame.DataFrame'>\n",
      "RangeIndex: 12060910 entries, 0 to 12060909\n",
      "Data columns (total 14 columns):\n",
      " #   Column              Dtype   \n",
      "---  ------              -----   \n",
      " 0   timestamp           object  \n",
      " 1   building_id         int64   \n",
      " 2   meter_reading       float64 \n",
      " 3   primary_use         category\n",
      " 4   square_feet         int32   \n",
      " 5   year_built          int16   \n",
      " 6   floor_count         int8    \n",
      " 7   air_temperature     float16 \n",
      " 8   cloud_coverage      int8    \n",
      " 9   dew_temperature     float16 \n",
      " 10  precip_depth_1_hr   int16   \n",
      " 11  sea_level_pressure  float16 \n",
      " 12  wind_direction      int16   \n",
      " 13  wind_speed          int8    \n",
      "dtypes: category(1), float16(3), float64(1), int16(3), int32(1), int64(1), int8(3), object(1)\n",
      "memory usage: 506.1+ MB\n",
      "None\n"
     ]
    }
   ],
   "source": [
    "energy = round_fillna(energy, ['wind_direction', 'year_built', 'precip_depth_1_hr', 'cloud_coverage', 'wind_speed', 'floor_count'])\n",
    "print(energy.info())"
   ]
  },
  {
   "cell_type": "code",
   "execution_count": 13,
   "id": "94fb7f56-788f-4a18-baae-922ff62943f3",
   "metadata": {},
   "outputs": [],
   "source": [
    "del buildings\n",
    "del weather\n",
    "del energy"
   ]
  },
  {
   "cell_type": "code",
   "execution_count": null,
   "id": "8cf6d975-aca9-4126-9ba2-f91bbde791e9",
   "metadata": {},
   "outputs": [],
   "source": []
  }
 ],
 "metadata": {
  "kernelspec": {
   "display_name": "Python 3 (ipykernel)",
   "language": "python",
   "name": "python3"
  },
  "language_info": {
   "codemirror_mode": {
    "name": "ipython",
    "version": 3
   },
   "file_extension": ".py",
   "mimetype": "text/x-python",
   "name": "python",
   "nbconvert_exporter": "python",
   "pygments_lexer": "ipython3",
   "version": "3.12.4"
  }
 },
 "nbformat": 4,
 "nbformat_minor": 5
}
