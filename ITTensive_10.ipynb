{
 "cells": [
  {
   "cell_type": "code",
   "execution_count": 1,
   "id": "a8cb5138-1b2e-4777-bfb0-59526f921ef1",
   "metadata": {},
   "outputs": [],
   "source": [
    "import pandas as pd\n",
    "from pandas.tseries.holiday import USFederalHolidayCalendar as calendar\n",
    "import numpy as np\n",
    "from scipy.interpolate import interp1d\n",
    "from sklearn.model_selection import train_test_split\n",
    "from sklearn.linear_model import LinearRegression, Lasso, Ridge, ElasticNet, BayesianRidge"
   ]
  },
  {
   "cell_type": "code",
   "execution_count": 2,
   "id": "0963ca86-0241-4c9a-8073-94f4adc6626d",
   "metadata": {},
   "outputs": [],
   "source": [
    "def reduce_memory_usage(df):\n",
    "    start_mem = df.memory_usage().sum() / 1024**2\n",
    "    for col in df.columns:\n",
    "        col_type = df[col].dtypes\n",
    "        if str(col_type)[:5] == 'float':\n",
    "            c_min = df[col].min()\n",
    "            c_max = df[col].max()\n",
    "            if c_min > np.finfo('f2').min and c_max < np.finfo('f2').max:\n",
    "                df[col] = df[col].astype(np.float16)\n",
    "            elif c_min > np.finfo('f4').min and c_max < np.finfo('f4').max:\n",
    "                df[col] = df[col].astype(np.float32)\n",
    "            else:\n",
    "                df[col] = df[col].astype(np.float64)\n",
    "        elif str(col_type)[:3] == 'int':\n",
    "            c_min = df[col].min()\n",
    "            c_max = df[col].max()\n",
    "            if c_min > np.iinfo('i1').min and c_max < np.iinfo('i1').max:\n",
    "                df[col] = df[col].astype(np.int8)\n",
    "            elif c_min > np.iinfo('i2').min and c_max < np.iinfo('i2').max:\n",
    "                df[col] = df[col].astype(np.int16)\n",
    "            elif c_min > np.iinfo('i4').min and c_max < np.iinfo('i4').max:\n",
    "                df[col] = df[col].astype(np.int32)\n",
    "            else:\n",
    "                df[col] = df[col].astype(np.int64)\n",
    "        elif col == 'timestamp':\n",
    "            df[col] = pd.to_datetime(df[col])\n",
    "        elif str(col_type)[:8] != 'datetime':\n",
    "            df[col] = df[col].astype('category')\n",
    "    end_mem = df.memory_usage().sum() / 1024**2\n",
    "    print(\"Data usage is less about\", round(start_mem - end_mem, 2), \"Mb (-\", round(100* (start_mem - end_mem) / start_mem, 1), \"%)\")\n",
    "    return df"
   ]
  },
  {
   "cell_type": "code",
   "execution_count": 3,
   "id": "ee80f796-3278-4cf4-8750-77dd5d6677b2",
   "metadata": {},
   "outputs": [
    {
     "name": "stdout",
     "output_type": "stream",
     "text": [
      "Data usage is less about 11.56 Mb (- 71.9 %)\n",
      "<class 'pandas.core.frame.DataFrame'>\n",
      "RangeIndex: 175680 entries, 0 to 175679\n",
      "Data columns (total 12 columns):\n",
      " #   Column              Non-Null Count   Dtype         \n",
      "---  ------              --------------   -----         \n",
      " 0   timestamp           175680 non-null  datetime64[ns]\n",
      " 1   site_id             175680 non-null  int8          \n",
      " 2   building_id         175680 non-null  int8          \n",
      " 3   meter_reading       175680 non-null  float16       \n",
      " 4   primary_use         175680 non-null  category      \n",
      " 5   air_temperature     175620 non-null  float16       \n",
      " 6   cloud_coverage      99080 non-null   float16       \n",
      " 7   dew_temperature     175620 non-null  float16       \n",
      " 8   precip_depth_1_hr   175660 non-null  float16       \n",
      " 9   sea_level_pressure  173980 non-null  float16       \n",
      " 10  wind_direction      170680 non-null  float16       \n",
      " 11  wind_speed          175680 non-null  float16       \n",
      "dtypes: category(1), datetime64[ns](1), float16(8), int8(2)\n",
      "memory usage: 4.5 MB\n",
      "None\n"
     ]
    }
   ],
   "source": [
    "buildings = pd.read_csv(\"http://video.ittensive.com/machine-learning/ashrae/building_metadata.csv.gz\")\n",
    "weather = pd.read_csv(\"http://video.ittensive.com/machine-learning/ashrae/weather_train.csv.gz\")\n",
    "energy = pd.read_csv(\"http://video.ittensive.com/machine-learning/ashrae/train.0.csv.gz\")\n",
    "energy = energy[(energy[\"building_id\"]<20)]\n",
    "energy = pd.merge(left=energy, right=buildings, how=\"left\",\n",
    "                   left_on=\"building_id\", right_on=\"building_id\")\n",
    "energy = energy.set_index([\"timestamp\", \"site_id\"])\n",
    "weather = weather.set_index([\"timestamp\", \"site_id\"])\n",
    "energy = pd.merge(left=energy, right=weather, how=\"left\",\n",
    "                  left_index=True, right_index=True)\n",
    "energy.reset_index(inplace=True)\n",
    "energy = energy.drop(columns=[\"meter\", \"year_built\",\n",
    "                              \"square_feet\", \"floor_count\"], axis=1)\n",
    "del buildings\n",
    "del weather\n",
    "energy = reduce_memory_usage(energy)\n",
    "print (energy.info())"
   ]
  },
  {
   "cell_type": "code",
   "execution_count": 4,
   "id": "eb157074-28c2-4788-9bce-c6375e405e99",
   "metadata": {},
   "outputs": [],
   "source": [
    "energy[\"hour\"] = energy[\"timestamp\"].dt.hour.astype(\"int8\")\n",
    "energy[\"weekday\"] = energy[\"timestamp\"].dt.weekday.astype(\"int8\")\n",
    "for weekday in range(0,7):\n",
    "    energy['is_wday' + str(weekday)] = energy['weekday'].isin([weekday]).astype(\"int8\")\n",
    "energy[\"date\"] = pd.to_datetime(energy[\"timestamp\"].dt.date)\n",
    "dates_range = pd.date_range(start='2015-12-31', end='2017-01-01')\n",
    "us_holidays = calendar().holidays(start=dates_range.min(),\n",
    "                                  end=dates_range.max())\n",
    "energy['is_holiday'] = energy['date'].isin(us_holidays).astype(\"int8\")\n",
    "energy[\"meter_reading_log\"] = np.log(energy[\"meter_reading\"] + 1)"
   ]
  },
  {
   "cell_type": "code",
   "execution_count": 5,
   "id": "0f464d9e-c8c9-4493-b8c9-af582fc873b9",
   "metadata": {},
   "outputs": [
    {
     "name": "stdout",
     "output_type": "stream",
     "text": [
      "<class 'pandas.core.frame.DataFrame'>\n",
      "Index: 86858 entries, 68880 to 80119\n",
      "Data columns (total 24 columns):\n",
      " #   Column              Non-Null Count  Dtype         \n",
      "---  ------              --------------  -----         \n",
      " 0   timestamp           86858 non-null  datetime64[ns]\n",
      " 1   site_id             86858 non-null  int8          \n",
      " 2   building_id         86858 non-null  int8          \n",
      " 3   meter_reading       86858 non-null  float16       \n",
      " 4   primary_use         86858 non-null  category      \n",
      " 5   air_temperature     86858 non-null  float16       \n",
      " 6   cloud_coverage      50554 non-null  float16       \n",
      " 7   dew_temperature     86858 non-null  float16       \n",
      " 8   precip_depth_1_hr   86858 non-null  float16       \n",
      " 9   sea_level_pressure  86417 non-null  float16       \n",
      " 10  wind_direction      84066 non-null  float16       \n",
      " 11  wind_speed          86858 non-null  float16       \n",
      " 12  hour                86858 non-null  int8          \n",
      " 13  weekday             86858 non-null  int8          \n",
      " 14  is_wday0            86858 non-null  int8          \n",
      " 15  is_wday1            86858 non-null  int8          \n",
      " 16  is_wday2            86858 non-null  int8          \n",
      " 17  is_wday3            86858 non-null  int8          \n",
      " 18  is_wday4            86858 non-null  int8          \n",
      " 19  is_wday5            86858 non-null  int8          \n",
      " 20  is_wday6            86858 non-null  int8          \n",
      " 21  date                86858 non-null  datetime64[ns]\n",
      " 22  is_holiday          86858 non-null  int8          \n",
      " 23  meter_reading_log   86858 non-null  float16       \n",
      "dtypes: category(1), datetime64[ns](2), float16(9), int8(12)\n",
      "memory usage: 4.6 MB\n",
      "None\n"
     ]
    }
   ],
   "source": [
    "energy_train, energy_test = train_test_split(energy[(energy[\"meter_reading\"]>0)], test_size=0.2)\n",
    "print (energy_train.info())"
   ]
  },
  {
   "cell_type": "code",
   "execution_count": 6,
   "id": "682c092a-35db-46e3-84e2-ff9a8c2af1a2",
   "metadata": {},
   "outputs": [],
   "source": [
    "from sklearn.metrics import r2_score"
   ]
  },
  {
   "cell_type": "code",
   "execution_count": 7,
   "id": "7976f8f2-4221-4176-be44-41f2ac64e119",
   "metadata": {},
   "outputs": [],
   "source": [
    "hours = range(0, 24)\n",
    "buildings = range(0, energy_train[\"building_id\"].max() + 1)\n",
    "lr_columns = [\"meter_reading_log\", \"hour\", \"building_id\", \"is_holiday\"]\n",
    "for wday in range(0, 7):\n",
    "    lr_columns.append(\"is_wday\" + str(wday))"
   ]
  },
  {
   "cell_type": "code",
   "execution_count": 8,
   "id": "b5307d3e-7adf-4ff4-bbd5-b9d3930ef584",
   "metadata": {},
   "outputs": [],
   "source": [
    "lr_models = {\n",
    "    \"LinearRegression\": LinearRegression,\n",
    "    \"Lasso-0.01\": Lasso,\n",
    "    \"Lasso-0.1\": Lasso,\n",
    "    \"Lasso-1.0\": Lasso,\n",
    "    \"Ridge-0.01\": Ridge,\n",
    "    \"Ridge-0.1\": Ridge,\n",
    "    \"Ridge-1.0\": Ridge,\n",
    "    \"ElasticNet-1-1\": ElasticNet,\n",
    "    \"ElasticNet-0.1-1\": ElasticNet,\n",
    "    \"ElasticNet-1-0.1\": ElasticNet,\n",
    "    \"ElasticNet-0.1-0.1\": ElasticNet,\n",
    "    \"BayesianRidge\": BayesianRidge\n",
    "}\n",
    "energy_train_lr = pd.DataFrame(energy_train, columns=lr_columns)"
   ]
  },
  {
   "cell_type": "code",
   "execution_count": 14,
   "id": "c7636d7b-c53f-4fd3-80ae-6f91e3ff2fd0",
   "metadata": {},
   "outputs": [
    {
     "name": "stdout",
     "output_type": "stream",
     "text": [
      "{'LinearRegression': np.float64(0.13212598553174684), 'Lasso-0.01': np.float64(-0.1889712145494823), 'Lasso-0.1': np.float64(-30.987507611291154), 'Lasso-1.0': np.float64(-2415.3274100496233), 'Ridge-0.01': np.float64(0.13171559427374263), 'Ridge-0.1': np.float64(0.09144253842049516), 'Ridge-1.0': np.float64(-3.616500969413656), 'ElasticNet-1-1': np.float64(-2415.3274100496233), 'ElasticNet-0.1-1': np.float64(-30.987507611291154), 'ElasticNet-1-0.1': np.float64(-1998.5796497317942), 'ElasticNet-0.1-0.1': np.float64(-399.76709211983325), 'BayesianRidge': np.float64(0.13211608242999465)}\n"
     ]
    }
   ],
   "source": [
    "lr_models_scores = {}\n",
    "for _ in lr_models:\n",
    "    lr_model = lr_models[_]\n",
    "    energy_lr_scores = [[]]*len(buildings)\n",
    "    for building in buildings:\n",
    "        energy_lr_scores[building] = [0]*len(hours)\n",
    "        energy_train_b = energy_train_lr[energy_train_lr[\"building_id\"] == building]\n",
    "        for hour in hours:\n",
    "            energy_train_bh = energy_train_b[energy_train_b[\"hour\"] == hour]\n",
    "            y = energy_train_bh[\"meter_reading_log\"]\n",
    "            x = energy_train_bh.drop(labels=[\"meter_reading_log\", \n",
    "                                    \"hour\", \"building_id\"], axis=1)\n",
    "            if _ in [\"Ridge-0.1\", \"Lasso-0.1\"]:\n",
    "                model = lr_model(alpha=.1, fit_intercept=False).fit(x, y)\n",
    "            elif _ in [\"Ridge-0.01\", \"Lasso-0.01\"]:\n",
    "                model = lr_model(alpha=.01, fit_intercept=False).fit(x, y)\n",
    "            elif _ == \"ElasticNet-1-1\":\n",
    "                model = lr_model(alpha=1, l1_ratio=1, fit_intercept=False).fit(x, y)\n",
    "            elif _ == \"ElasticNet-1-0.1\":\n",
    "                model = lr_model(alpha=1, l1_ratio=.1, fit_intercept=False).fit(x, y)\n",
    "            elif _ == \"ElasticNet-0.1-1\":\n",
    "                model = lr_model(alpha=.1, l1_ratio=1, fit_intercept=False).fit(x, y)\n",
    "            elif _ == \"ElasticNet-0.1-0.1\":\n",
    "                model = lr_model(alpha=.1, l1_ratio=.1, fit_intercept=False).fit(x, y)\n",
    "            else:\n",
    "                model = lr_model(fit_intercept=False).fit(x, y)\n",
    "            energy_lr_scores[building][hour] = r2_score(y, model.predict(x))\n",
    "    lr_models_scores[_] = np.mean(energy_lr_scores)\n",
    "print(lr_models_scores)"
   ]
  },
  {
   "cell_type": "code",
   "execution_count": 18,
   "id": "d2b598db-1932-4985-ae2e-e4e4fdfd789e",
   "metadata": {},
   "outputs": [
    {
     "name": "stdout",
     "output_type": "stream",
     "text": [
      "[-0.07673821  5.43768403  5.4458912   5.49464699  5.45166328  5.4244278\n",
      "  5.44155093  5.43708147]\n",
      "[-0.07415801  5.43509742  5.44387495  5.49261269  5.44938032  5.42232397\n",
      "  5.43953628  5.43514035]\n",
      "[-0.07609063  5.43703548  5.44538582  5.49413709  5.45109099  5.42390043\n",
      "  5.44104595  5.43659493]\n"
     ]
    }
   ],
   "source": [
    "# Перевірка моделей LR, Ridge, BayesianRidge\n",
    "energy_lr = []\n",
    "energy_ridge = []\n",
    "energy_br = []\n",
    "for building in buildings:\n",
    "    energy_lr.append([])\n",
    "    energy_ridge.append([])\n",
    "    energy_br.append([])\n",
    "    energy_train_b = energy_train_lr[energy_train_lr[\"building_id\"] == building]\n",
    "    for hour in hours:\n",
    "        energy_lr[building].append([0]*(len(lr_columns) - 3))\n",
    "        energy_ridge[building].append([0]*(len(lr_columns) - 3))\n",
    "        energy_br[building].append([0]*(len(lr_columns) - 3))\n",
    "        energy_train_bh = energy_train_b[energy_train_b[\"hour\"] == hour]\n",
    "        y = energy_train_bh[\"meter_reading_log\"]\n",
    "        if len(y) > 0:\n",
    "            x = energy_train_bh.drop(labels=[\"meter_reading_log\", \n",
    "                        \"hour\", \"building_id\"], axis=1)\n",
    "            model = LinearRegression(fit_intercept=False).fit(x, y)\n",
    "            energy_lr[building][hour] = model.coef_\n",
    "            model = Ridge(alpha=.01, fit_intercept=False).fit(x, y)\n",
    "            energy_ridge[building][hour] = model.coef_\n",
    "            model = BayesianRidge(fit_intercept=False).fit(x, y)\n",
    "            energy_br[building][hour] = model.coef_\n",
    "print(energy_lr[0][0])  \n",
    "print(energy_ridge[0][0])  \n",
    "print(energy_br[0][0])  "
   ]
  },
  {
   "cell_type": "code",
   "execution_count": null,
   "id": "46efeb48-1528-4d6e-928b-c71850c317cb",
   "metadata": {},
   "outputs": [],
   "source": []
  }
 ],
 "metadata": {
  "kernelspec": {
   "display_name": "Python 3 (ipykernel)",
   "language": "python",
   "name": "python3"
  },
  "language_info": {
   "codemirror_mode": {
    "name": "ipython",
    "version": 3
   },
   "file_extension": ".py",
   "mimetype": "text/x-python",
   "name": "python",
   "nbconvert_exporter": "python",
   "pygments_lexer": "ipython3",
   "version": "3.12.4"
  }
 },
 "nbformat": 4,
 "nbformat_minor": 5
}
