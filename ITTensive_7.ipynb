{
 "cells": [
  {
   "cell_type": "code",
   "execution_count": 1,
   "id": "1e5dd4b6-bb5d-4c01-8261-3095ecce508b",
   "metadata": {},
   "outputs": [],
   "source": [
    "import pandas as pd\n",
    "import numpy as np\n",
    "from scipy.interpolate import interp1d\n",
    "from sklearn.model_selection import train_test_split\n",
    "from sklearn.linear_model import LinearRegression"
   ]
  },
  {
   "cell_type": "code",
   "execution_count": 2,
   "id": "212e2d11-51cc-4f69-9662-32574c4b0704",
   "metadata": {},
   "outputs": [],
   "source": [
    "buildings = pd.read_csv(\"http://video.ittensive.com/machine-learning/ashrae/building_metadata.csv.gz\")\n",
    "weather = pd.read_csv(\"http://video.ittensive.com/machine-learning/ashrae/weather_train.csv.gz\")\n",
    "energy = pd.read_csv(\"http://video.ittensive.com/machine-learning/ashrae/train.0.csv.gz\")"
   ]
  },
  {
   "cell_type": "code",
   "execution_count": 3,
   "id": "19387de9-4bf5-4b39-99e4-46955e9bebf9",
   "metadata": {},
   "outputs": [],
   "source": [
    "energy = energy[energy[\"building_id\"]==0]"
   ]
  },
  {
   "cell_type": "code",
   "execution_count": 4,
   "id": "1925a3b8-bfed-4d79-9ef2-908fc178c2b8",
   "metadata": {},
   "outputs": [
    {
     "name": "stdout",
     "output_type": "stream",
     "text": [
      "<class 'pandas.core.frame.DataFrame'>\n",
      "RangeIndex: 8784 entries, 0 to 8783\n",
      "Data columns (total 13 columns):\n",
      " #   Column              Non-Null Count  Dtype  \n",
      "---  ------              --------------  -----  \n",
      " 0   timestamp           8784 non-null   object \n",
      " 1   building_id         8784 non-null   int64  \n",
      " 2   meter_reading       8784 non-null   float64\n",
      " 3   primary_use         8784 non-null   object \n",
      " 4   square_feet         8784 non-null   int64  \n",
      " 5   year_built          8784 non-null   float64\n",
      " 6   air_temperature     8781 non-null   float64\n",
      " 7   cloud_coverage      4954 non-null   float64\n",
      " 8   dew_temperature     8781 non-null   float64\n",
      " 9   precip_depth_1_hr   8783 non-null   float64\n",
      " 10  sea_level_pressure  8699 non-null   float64\n",
      " 11  wind_direction      8534 non-null   float64\n",
      " 12  wind_speed          8784 non-null   float64\n",
      "dtypes: float64(9), int64(2), object(2)\n",
      "memory usage: 892.3+ KB\n",
      "None\n"
     ]
    }
   ],
   "source": [
    "energy = pd.merge(left=energy, right=buildings, how=\"left\",\n",
    "                  left_on=\"building_id\", right_on=\"building_id\")\n",
    "energy = energy.set_index([\"timestamp\", \"site_id\"])\n",
    "weather = weather.set_index([\"timestamp\", \"site_id\"])\n",
    "energy = pd.merge(left=energy, right=weather, how=\"left\",\n",
    "                  left_index=True, right_index=True)\n",
    "energy.reset_index(inplace=True)\n",
    "energy = energy.drop(columns=[\"meter\", \"site_id\", \"floor_count\"], axis=1)\n",
    "\n",
    "del buildings\n",
    "del weather\n",
    "print(energy.info())"
   ]
  },
  {
   "cell_type": "code",
   "execution_count": 5,
   "id": "afd3e398-9b91-4bf0-80c5-95ee54d5c957",
   "metadata": {},
   "outputs": [],
   "source": [
    "def reduce_memory_usage(df):\n",
    "    start_mem = df.memory_usage().sum() / 1024**2\n",
    "    for col in df.columns:\n",
    "        col_type = df[col].dtypes\n",
    "        if str(col_type)[:5] == 'float':\n",
    "            c_min = df[col].min()\n",
    "            c_max = df[col].max()\n",
    "            if c_min > np.finfo('f2').min and c_max < np.finfo('f2').max:\n",
    "                df[col] = df[col].astype(np.float16)\n",
    "            elif c_min > np.finfo('f4').min and c_max < np.finfo('f4').max:\n",
    "                df[col] = df[col].astype(np.float32)\n",
    "            else:\n",
    "                df[col] = df[col].astype(np.float64)\n",
    "        elif str(col_type)[:3] == 'int':\n",
    "            c_min = df[col].min()\n",
    "            c_max = df[col].max()\n",
    "            if c_min > np.iinfo('i1').min and c_max < np.iinfo('i1').max:\n",
    "                df[col] = df[col].astype(np.int8)\n",
    "            elif c_min > np.iinfo('i2').min and c_max < np.iinfo('i2').max:\n",
    "                df[col] = df[col].astype(np.int16)\n",
    "            elif c_min > np.iinfo('i4').min and c_max < np.iinfo('i4').max:\n",
    "                df[col] = df[col].astype(np.int32)\n",
    "            else:\n",
    "                df[col] = df[col].astype(np.int64)\n",
    "        elif col == 'timestamp':\n",
    "            df[col] = pd.to_datetime(df[col])\n",
    "        elif str(col_type)[:8] != 'datetime':\n",
    "            df[col] = df[col].astype('category')\n",
    "    end_mem = df.memory_usage().sum() / 1024**2\n",
    "    print(\"Data usage is less about\", round(start_mem - end_mem, 2), \"Mb (-\", round(100* (start_mem - end_mem) / start_mem, 1), \"%)\")\n",
    "    return df"
   ]
  },
  {
   "cell_type": "code",
   "execution_count": 6,
   "id": "c0866d27-61b5-4672-9198-c690fa8536d8",
   "metadata": {},
   "outputs": [
    {
     "name": "stdout",
     "output_type": "stream",
     "text": [
      "Data usage is less about 0.62 Mb (- 71.1 %)\n"
     ]
    }
   ],
   "source": [
    "energy = reduce_memory_usage(energy)"
   ]
  },
  {
   "cell_type": "code",
   "execution_count": 7,
   "id": "f5e5be9f-c4bf-470d-ace6-37f2a7c5398a",
   "metadata": {},
   "outputs": [],
   "source": [
    "energy[\"precip_depth_1_hr\"] = energy[\"precip_depth_1_hr\"].apply(lambda x: 0 if x < 0 else x)\n",
    "interpolate_columns = [\"air_temperature\", \"dew_temperature\", \n",
    "                       \"cloud_coverage\", \"wind_speed\", \"precip_depth_1_hr\", \n",
    "                       \"sea_level_pressure\"]\n",
    "for col in interpolate_columns:\n",
    "    energy[col] = energy[col].interpolate(limit_direction='both',\n",
    "                                          kind='cubic')"
   ]
  },
  {
   "cell_type": "code",
   "execution_count": 8,
   "id": "3bd6944b-a786-4814-82c9-717d400ebd58",
   "metadata": {},
   "outputs": [
    {
     "name": "stdout",
     "output_type": "stream",
     "text": [
      "air_temperature Inf+NaN: 0\n",
      "dew_temperature Inf+NaN: 0\n",
      "cloud_coverage Inf+NaN: 0\n",
      "wind_speed Inf+NaN: 0\n",
      "precip_depth_1_hr Inf+NaN: 0\n",
      "sea_level_pressure Inf+NaN: 0\n"
     ]
    },
    {
     "name": "stderr",
     "output_type": "stream",
     "text": [
      "C:\\Users\\mike7\\AppData\\Local\\Temp\\ipykernel_21392\\2136504815.py:1: FutureWarning: use_inf_as_na option is deprecated and will be removed in a future version. Convert inf values to NaN before operating instead.\n",
      "  pd.set_option(\"use_inf_as_na\", True)\n"
     ]
    }
   ],
   "source": [
    "pd.set_option(\"use_inf_as_na\", True)\n",
    "for col in interpolate_columns:\n",
    "    print(col, \"Inf+NaN:\", energy[col].isnull().sum())"
   ]
  },
  {
   "cell_type": "code",
   "execution_count": 9,
   "id": "7100dbb0-aaf4-4c45-a1a9-9c7aa73e0574",
   "metadata": {},
   "outputs": [
    {
     "name": "stdout",
     "output_type": "stream",
     "text": [
      "               timestamp  building_id  meter_reading primary_use  square_feet  \\\n",
      "6698 2016-10-06 02:00:00            0        243.625   Education         7432   \n",
      "5916 2016-09-03 12:00:00            0        232.125   Education         7432   \n",
      "7665 2016-11-15 09:00:00            0        217.000   Education         7432   \n",
      "4421 2016-07-03 05:00:00            0        245.750   Education         7432   \n",
      "3993 2016-06-15 09:00:00            0        285.250   Education         7432   \n",
      "\n",
      "      year_built  air_temperature  cloud_coverage  dew_temperature  \\\n",
      "6698      2008.0        26.093750        4.000000        23.296875   \n",
      "5916      2008.0        23.906250        6.000000        23.296875   \n",
      "7665      2008.0        15.601562        7.000000        12.796875   \n",
      "4421      2008.0        23.906250        4.332031        22.796875   \n",
      "3993      2008.0        25.000000        0.000000        23.296875   \n",
      "\n",
      "      precip_depth_1_hr  sea_level_pressure  wind_direction  wind_speed  \n",
      "6698                0.0              1012.0            30.0    5.699219  \n",
      "5916                0.0              1016.5           210.0    2.599609  \n",
      "7665                0.0              1015.5           350.0    3.099609  \n",
      "4421                0.0              1020.0             0.0    0.000000  \n",
      "3993                0.0              1016.0           220.0    2.599609  \n"
     ]
    },
    {
     "name": "stderr",
     "output_type": "stream",
     "text": [
      "C:\\Users\\mike7\\AppData\\Local\\Programs\\Python\\Python312\\Lib\\site-packages\\pandas\\io\\formats\\format.py:1458: RuntimeWarning: overflow encountered in cast\n",
      "  has_large_values = (abs_vals > 1e6).any()\n"
     ]
    }
   ],
   "source": [
    "energy_train, energy_test = train_test_split(energy[energy[\"meter_reading\"]>0], test_size=0.2)\n",
    "print(energy_train.head())"
   ]
  },
  {
   "cell_type": "code",
   "execution_count": 10,
   "id": "fc3314c7-59f8-461f-b9b5-ef492fd102f7",
   "metadata": {},
   "outputs": [
    {
     "name": "stdout",
     "output_type": "stream",
     "text": [
      "[ 2.68365936  3.61521833 -2.23550463 -1.97167689  0.14664558 -0.98427396] 1117.7261423710365\n"
     ]
    }
   ],
   "source": [
    "regression_columns = [\"meter_reading\", \"air_temperature\", \"dew_temperature\", \n",
    "                       \"cloud_coverage\", \"wind_speed\", \"precip_depth_1_hr\", \n",
    "                       \"sea_level_pressure\"]\n",
    "energy_train_lr = pd.DataFrame(energy_train, columns=regression_columns)\n",
    "y = energy_train_lr[\"meter_reading\"]\n",
    "x = energy_train_lr.drop(labels=[\"meter_reading\"], axis=1)\n",
    "model = LinearRegression().fit(x, y)\n",
    "print(model.coef_, model.intercept_)"
   ]
  },
  {
   "cell_type": "code",
   "execution_count": 11,
   "id": "8ec6dd64-5d0c-4b29-bc12-2b2c17f0bcf8",
   "metadata": {},
   "outputs": [
    {
     "name": "stdout",
     "output_type": "stream",
     "text": [
      "Linear regression quality: 0.22334807000314832 0.2\n"
     ]
    }
   ],
   "source": [
    "def calculate_model (x):\n",
    "    lr = np.sum([x[col] * model.coef_[i] for i,col in enumerate(regression_columns[1:])])\n",
    "    lr += model.intercept_\n",
    "    x[\"meter_reading_lr_q\"] = (np.log(1 + x.meter_reading) -\n",
    "                               np.log(1 + lr))**2\n",
    "    return x\n",
    "\n",
    "energy_test = energy_test.apply(calculate_model,\n",
    "                                    axis=1, result_type=\"expand\")\n",
    "energy_test_lr_rmsle = np.sqrt(energy_test[\"meter_reading_lr_q\"].sum() / len(energy_test))\n",
    "print (\"Linear regression quality:\", energy_test_lr_rmsle, round(energy_test_lr_rmsle, 1))"
   ]
  },
  {
   "cell_type": "code",
   "execution_count": null,
   "id": "7ea892f5-fbc6-4f6e-bbaf-04466e907afb",
   "metadata": {},
   "outputs": [],
   "source": []
  }
 ],
 "metadata": {
  "kernelspec": {
   "display_name": "Python 3 (ipykernel)",
   "language": "python",
   "name": "python3"
  },
  "language_info": {
   "codemirror_mode": {
    "name": "ipython",
    "version": 3
   },
   "file_extension": ".py",
   "mimetype": "text/x-python",
   "name": "python",
   "nbconvert_exporter": "python",
   "pygments_lexer": "ipython3",
   "version": "3.12.4"
  }
 },
 "nbformat": 4,
 "nbformat_minor": 5
}
