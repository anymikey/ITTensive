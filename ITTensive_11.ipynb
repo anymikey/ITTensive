{
 "cells": [
  {
   "cell_type": "code",
   "execution_count": 1,
   "id": "626e2e36-202b-4278-9f2e-b93fd0b01234",
   "metadata": {},
   "outputs": [],
   "source": [
    "import pandas as pd\n",
    "from pandas.tseries.holiday import USFederalHolidayCalendar as calendar\n",
    "import numpy as np\n",
    "from scipy.interpolate import interp1d\n",
    "from sklearn.model_selection import train_test_split\n",
    "from sklearn.linear_model import LinearRegression\n",
    "import os"
   ]
  },
  {
   "cell_type": "code",
   "execution_count": 2,
   "id": "73d8f5e1-239a-463c-bb05-c741dfe63a22",
   "metadata": {},
   "outputs": [],
   "source": [
    "def reduce_memory_usage(df):\n",
    "    start_mem = df.memory_usage().sum() / 1024**2\n",
    "    for col in df.columns:\n",
    "        col_type = df[col].dtypes\n",
    "        if str(col_type)[:5] == 'float':\n",
    "            c_min = df[col].min()\n",
    "            c_max = df[col].max()\n",
    "            if c_min > np.finfo('f2').min and c_max < np.finfo('f2').max:\n",
    "                df[col] = df[col].astype(np.float16)\n",
    "            elif c_min > np.finfo('f4').min and c_max < np.finfo('f4').max:\n",
    "                df[col] = df[col].astype(np.float32)\n",
    "            else:\n",
    "                df[col] = df[col].astype(np.float64)\n",
    "        elif str(col_type)[:3] == 'int':\n",
    "            c_min = df[col].min()\n",
    "            c_max = df[col].max()\n",
    "            if c_min > np.iinfo('i1').min and c_max < np.iinfo('i1').max:\n",
    "                df[col] = df[col].astype(np.int8)\n",
    "            elif c_min > np.iinfo('i2').min and c_max < np.iinfo('i2').max:\n",
    "                df[col] = df[col].astype(np.int16)\n",
    "            elif c_min > np.iinfo('i4').min and c_max < np.iinfo('i4').max:\n",
    "                df[col] = df[col].astype(np.int32)\n",
    "            else:\n",
    "                df[col] = df[col].astype(np.int64)\n",
    "        elif col == 'timestamp':\n",
    "            df[col] = pd.to_datetime(df[col])\n",
    "        elif str(col_type)[:8] != 'datetime':\n",
    "            df[col] = df[col].astype('category')\n",
    "    end_mem = df.memory_usage().sum() / 1024**2\n",
    "    print(\"Data usage is less about\", round(start_mem - end_mem, 2), \"Mb (-\", round(100* (start_mem - end_mem) / start_mem, 1), \"%)\")\n",
    "    return df"
   ]
  },
  {
   "cell_type": "code",
   "execution_count": 3,
   "id": "a15766f7-4e4b-4afe-9c06-1427e6daf5dc",
   "metadata": {},
   "outputs": [],
   "source": [
    "buildings = pd.read_csv(\"http://video.ittensive.com/machine-learning/ashrae/building_metadata.csv.gz\")\n",
    "weather = pd.read_csv(\"http://video.ittensive.com/machine-learning/ashrae/weather_train.csv.gz\")\n",
    "weather = weather[weather[\"site_id\"] == 0]\n",
    "energy = pd.read_csv(\"http://video.ittensive.com/machine-learning/ashrae/train.0.csv.gz\")\n",
    "energy = energy[energy[\"building_id\"] < 20]\n",
    "energy = pd.merge(left=energy, right=buildings, how=\"left\",\n",
    "                   left_on=\"building_id\", right_on=\"building_id\")\n",
    "del buildings"
   ]
  },
  {
   "cell_type": "code",
   "execution_count": 4,
   "id": "694c5fd2-d9ff-4b11-9e87-6f413086d706",
   "metadata": {},
   "outputs": [],
   "source": [
    "weather[\"precip_depth_1_hr\"] = weather[\"precip_depth_1_hr\"].apply(lambda x: x if x > 0 else 0)\n",
    "interpolate_columns = [\"air_temperature\", \"dew_temperature\", \"cloud_coverage\",\n",
    "                      \"wind_speed\", \"wind_direction\", \"precip_depth_1_hr\",\n",
    "                      \"sea_level_pressure\"]\n",
    "for col in interpolate_columns:\n",
    "    weather[col] = weather[col].interpolate(limit_direction='both', kind='cubic')"
   ]
  },
  {
   "cell_type": "code",
   "execution_count": 5,
   "id": "94738175-1722-4190-994f-cc34a0949968",
   "metadata": {},
   "outputs": [],
   "source": [
    "weather[\"air_temperature_diff1\"] = weather[\"air_temperature\"].diff()\n",
    "weather.at[0, \"air_temperature_diff1\"] = weather.at[1, \"air_temperature_diff1\"]\n",
    "weather[\"air_temperature_diff2\"] = weather[\"air_temperature_diff1\"].diff()\n",
    "weather.at[0, \"air_temperature_diff2\"] = weather.at[1, \"air_temperature_diff2\"]"
   ]
  },
  {
   "cell_type": "code",
   "execution_count": 6,
   "id": "21afa2b9-4095-438d-b1b2-0c805475adcd",
   "metadata": {},
   "outputs": [
    {
     "name": "stdout",
     "output_type": "stream",
     "text": [
      "Data usage is less about 12.4 Mb (- 71.2 %)\n",
      "<class 'pandas.core.frame.DataFrame'>\n",
      "RangeIndex: 175680 entries, 0 to 175679\n",
      "Data columns (total 13 columns):\n",
      " #   Column                 Non-Null Count   Dtype         \n",
      "---  ------                 --------------   -----         \n",
      " 0   timestamp              175680 non-null  datetime64[ns]\n",
      " 1   building_id            175680 non-null  int8          \n",
      " 2   meter_reading          175680 non-null  float16       \n",
      " 3   primary_use            175680 non-null  category      \n",
      " 4   air_temperature        175680 non-null  float16       \n",
      " 5   cloud_coverage         175680 non-null  float16       \n",
      " 6   dew_temperature        175680 non-null  float16       \n",
      " 7   precip_depth_1_hr      175680 non-null  float16       \n",
      " 8   sea_level_pressure     175680 non-null  float16       \n",
      " 9   wind_direction         175680 non-null  float16       \n",
      " 10  wind_speed             175680 non-null  float16       \n",
      " 11  air_temperature_diff1  175680 non-null  float16       \n",
      " 12  air_temperature_diff2  175680 non-null  float16       \n",
      "dtypes: category(1), datetime64[ns](1), float16(10), int8(1)\n",
      "memory usage: 5.0 MB\n",
      "None\n"
     ]
    }
   ],
   "source": [
    "energy = energy.set_index([\"timestamp\", \"site_id\"])\n",
    "weather = weather.set_index([\"timestamp\", \"site_id\"])\n",
    "energy = pd.merge(left=energy, right=weather, how=\"left\",\n",
    "                  left_index=True, right_index=True)\n",
    "energy.reset_index(inplace=True)\n",
    "energy = energy.drop(columns=[\"meter\", \"site_id\", \"year_built\",\n",
    "                              \"square_feet\", \"floor_count\"], axis=1)\n",
    "energy = reduce_memory_usage(energy)\n",
    "del weather\n",
    "print (energy.info())"
   ]
  },
  {
   "cell_type": "code",
   "execution_count": 7,
   "id": "aeb0a75a-d985-4c1e-983a-e5c471000011",
   "metadata": {},
   "outputs": [],
   "source": [
    "energy[\"hour\"] = energy[\"timestamp\"].dt.hour.astype(\"int8\")\n",
    "energy[\"weekday\"] = energy[\"timestamp\"].dt.weekday.astype(\"int8\")\n",
    "# energy[\"week\"] = energy[\"timestamp\"].dt.week.astype(\"int8\")\n",
    "energy[\"month\"] = energy[\"timestamp\"].dt.month.astype(\"int8\")\n",
    "energy[\"date\"] = pd.to_datetime(energy[\"timestamp\"].dt.date)\n",
    "dates_range = pd.date_range(start='2015-12-31', end='2017-01-01')\n",
    "us_holidays = calendar().holidays(start=dates_range.min(), end=dates_range.max())\n",
    "energy[\"is_holiday\"] = energy[\"date\"].isin(us_holidays).astype(\"int8\")\n",
    "for weekday in range(0, 7):\n",
    "    energy[\"is_wday\" + str(weekday)] = energy[\"weekday\"].isin([weekday]).astype(\"int8\")\n",
    "# for week in range(1, 54):\n",
    "#     energy[\"is_w\" + str(week)] = energy[\"week\"].isin([week]).astype(\"int8\")\n",
    "for month in range(1, 13):\n",
    "    energy[\"is_m\" + str(month)] = energy[\"month\"].isin([month]).astype(\"int8\")"
   ]
  },
  {
   "cell_type": "code",
   "execution_count": 8,
   "id": "5d480750-659f-4e37-a6b0-25898accb9b6",
   "metadata": {},
   "outputs": [],
   "source": [
    "energy[\"meter_reading_log\"] = np.log(energy[\"meter_reading\"] + 1)"
   ]
  },
  {
   "cell_type": "code",
   "execution_count": 9,
   "id": "13897b1a-cddc-44db-b6c4-d634eb989f34",
   "metadata": {},
   "outputs": [
    {
     "name": "stdout",
     "output_type": "stream",
     "text": [
      "<class 'pandas.core.frame.DataFrame'>\n",
      "RangeIndex: 175680 entries, 0 to 175679\n",
      "Data columns (total 38 columns):\n",
      " #   Column                 Non-Null Count   Dtype         \n",
      "---  ------                 --------------   -----         \n",
      " 0   timestamp              175680 non-null  datetime64[ns]\n",
      " 1   building_id            175680 non-null  int8          \n",
      " 2   meter_reading          175680 non-null  float16       \n",
      " 3   primary_use            175680 non-null  category      \n",
      " 4   air_temperature        175680 non-null  float16       \n",
      " 5   cloud_coverage         175680 non-null  float16       \n",
      " 6   dew_temperature        175680 non-null  float16       \n",
      " 7   precip_depth_1_hr      175680 non-null  float16       \n",
      " 8   sea_level_pressure     175680 non-null  float16       \n",
      " 9   wind_direction         175680 non-null  float16       \n",
      " 10  wind_speed             175680 non-null  float16       \n",
      " 11  air_temperature_diff1  175680 non-null  float16       \n",
      " 12  air_temperature_diff2  175680 non-null  float16       \n",
      " 13  hour                   175680 non-null  int8          \n",
      " 14  weekday                175680 non-null  int8          \n",
      " 15  month                  175680 non-null  int8          \n",
      " 16  date                   175680 non-null  datetime64[ns]\n",
      " 17  is_holiday             175680 non-null  int8          \n",
      " 18  is_wday0               175680 non-null  int8          \n",
      " 19  is_wday1               175680 non-null  int8          \n",
      " 20  is_wday2               175680 non-null  int8          \n",
      " 21  is_wday3               175680 non-null  int8          \n",
      " 22  is_wday4               175680 non-null  int8          \n",
      " 23  is_wday5               175680 non-null  int8          \n",
      " 24  is_wday6               175680 non-null  int8          \n",
      " 25  is_m1                  175680 non-null  int8          \n",
      " 26  is_m2                  175680 non-null  int8          \n",
      " 27  is_m3                  175680 non-null  int8          \n",
      " 28  is_m4                  175680 non-null  int8          \n",
      " 29  is_m5                  175680 non-null  int8          \n",
      " 30  is_m6                  175680 non-null  int8          \n",
      " 31  is_m7                  175680 non-null  int8          \n",
      " 32  is_m8                  175680 non-null  int8          \n",
      " 33  is_m9                  175680 non-null  int8          \n",
      " 34  is_m10                 175680 non-null  int8          \n",
      " 35  is_m11                 175680 non-null  int8          \n",
      " 36  is_m12                 175680 non-null  int8          \n",
      " 37  meter_reading_log      175680 non-null  float16       \n",
      "dtypes: category(1), datetime64[ns](2), float16(11), int8(24)\n",
      "memory usage: 10.6 MB\n",
      "None\n"
     ]
    }
   ],
   "source": [
    "# CSV\n",
    "print(energy.info())\n",
    "energy.to_csv(\"energy.0-20.ready.csv.gz\", index=False)"
   ]
  },
  {
   "cell_type": "code",
   "execution_count": 10,
   "id": "803e87a6-8720-446f-9bcc-3a53f2251065",
   "metadata": {},
   "outputs": [
    {
     "name": "stdout",
     "output_type": "stream",
     "text": [
      "<class 'pandas.core.frame.DataFrame'>\n",
      "RangeIndex: 175680 entries, 0 to 175679\n",
      "Data columns (total 38 columns):\n",
      " #   Column                 Non-Null Count   Dtype  \n",
      "---  ------                 --------------   -----  \n",
      " 0   timestamp              175680 non-null  object \n",
      " 1   building_id            175680 non-null  int64  \n",
      " 2   meter_reading          175680 non-null  float64\n",
      " 3   primary_use            175680 non-null  object \n",
      " 4   air_temperature        175680 non-null  float64\n",
      " 5   cloud_coverage         175680 non-null  float64\n",
      " 6   dew_temperature        175680 non-null  float64\n",
      " 7   precip_depth_1_hr      175680 non-null  float64\n",
      " 8   sea_level_pressure     175680 non-null  float64\n",
      " 9   wind_direction         175680 non-null  float64\n",
      " 10  wind_speed             175680 non-null  float64\n",
      " 11  air_temperature_diff1  175680 non-null  float64\n",
      " 12  air_temperature_diff2  175680 non-null  float64\n",
      " 13  hour                   175680 non-null  int64  \n",
      " 14  weekday                175680 non-null  int64  \n",
      " 15  month                  175680 non-null  int64  \n",
      " 16  date                   175680 non-null  object \n",
      " 17  is_holiday             175680 non-null  int64  \n",
      " 18  is_wday0               175680 non-null  int64  \n",
      " 19  is_wday1               175680 non-null  int64  \n",
      " 20  is_wday2               175680 non-null  int64  \n",
      " 21  is_wday3               175680 non-null  int64  \n",
      " 22  is_wday4               175680 non-null  int64  \n",
      " 23  is_wday5               175680 non-null  int64  \n",
      " 24  is_wday6               175680 non-null  int64  \n",
      " 25  is_m1                  175680 non-null  int64  \n",
      " 26  is_m2                  175680 non-null  int64  \n",
      " 27  is_m3                  175680 non-null  int64  \n",
      " 28  is_m4                  175680 non-null  int64  \n",
      " 29  is_m5                  175680 non-null  int64  \n",
      " 30  is_m6                  175680 non-null  int64  \n",
      " 31  is_m7                  175680 non-null  int64  \n",
      " 32  is_m8                  175680 non-null  int64  \n",
      " 33  is_m9                  175680 non-null  int64  \n",
      " 34  is_m10                 175680 non-null  int64  \n",
      " 35  is_m11                 175680 non-null  int64  \n",
      " 36  is_m12                 175680 non-null  int64  \n",
      " 37  meter_reading_log      175680 non-null  float64\n",
      "dtypes: float64(11), int64(24), object(3)\n",
      "memory usage: 50.9+ MB\n",
      "None\n"
     ]
    }
   ],
   "source": [
    "# CSV\n",
    "energy = pd.read_csv(\"energy.0-20.ready.csv.gz\")\n",
    "print(energy.info())"
   ]
  },
  {
   "cell_type": "code",
   "execution_count": 16,
   "id": "75fb2f51-ed55-424b-8e4c-9f0b7f1d52e3",
   "metadata": {},
   "outputs": [
    {
     "name": "stderr",
     "output_type": "stream",
     "text": [
      "<>:5: SyntaxWarning: invalid escape sequence '\\e'\n",
      "<>:6: SyntaxWarning: invalid escape sequence '\\e'\n",
      "<>:5: SyntaxWarning: invalid escape sequence '\\e'\n",
      "<>:6: SyntaxWarning: invalid escape sequence '\\e'\n",
      "C:\\Users\\mike7\\AppData\\Local\\Temp\\ipykernel_1832\\433811768.py:5: SyntaxWarning: invalid escape sequence '\\e'\n",
      "  print (\"CSV:\", os.path.getsize(os.getcwd() + '\\energy.0-20.ready.csv.gz'))\n",
      "C:\\Users\\mike7\\AppData\\Local\\Temp\\ipykernel_1832\\433811768.py:6: SyntaxWarning: invalid escape sequence '\\e'\n",
      "  print (\"HDF5:\", os.path.getsize(os.getcwd() + '\\energy.0-20.ready.h5'))\n",
      "C:\\Users\\mike7\\AppData\\Local\\Temp\\ipykernel_1832\\433811768.py:3: FutureWarning: Starting with pandas version 3.0 all arguments of to_hdf except for the argument 'path_or_buf' will be keyword-only.\n",
      "  energy.to_hdf('energy.0-20.ready.h5', \"energy\", format='table',\n"
     ]
    },
    {
     "name": "stdout",
     "output_type": "stream",
     "text": [
      "Data usage is less about 41.37 Mb (- 81.2 %)\n"
     ]
    },
    {
     "name": "stderr",
     "output_type": "stream",
     "text": [
      "C:\\Users\\mike7\\AppData\\Local\\Temp\\ipykernel_1832\\433811768.py:5: SyntaxWarning: invalid escape sequence '\\e'\n",
      "  print (\"CSV:\", os.path.getsize(os.getcwd() + '\\energy.0-20.ready.csv.gz'))\n",
      "C:\\Users\\mike7\\AppData\\Local\\Temp\\ipykernel_1832\\433811768.py:6: SyntaxWarning: invalid escape sequence '\\e'\n",
      "  print (\"HDF5:\", os.path.getsize(os.getcwd() + '\\energy.0-20.ready.h5'))\n"
     ]
    },
    {
     "ename": "ImportError",
     "evalue": "Missing optional dependency 'pytables'.  Use pip or conda to install pytables.",
     "output_type": "error",
     "traceback": [
      "\u001b[1;31m------------------------------------------------\u001b[0m",
      "\u001b[1;31mModuleNotFoundError\u001b[0mTraceback (most recent call last)",
      "File \u001b[1;32m~\\AppData\\Local\\Programs\\Python\\Python312\\Lib\\site-packages\\pandas\\compat\\_optional.py:135\u001b[0m, in \u001b[0;36mimport_optional_dependency\u001b[1;34m(name, extra, errors, min_version)\u001b[0m\n\u001b[0;32m    134\u001b[0m \u001b[38;5;28;01mtry\u001b[39;00m:\n\u001b[1;32m--> 135\u001b[0m     module \u001b[38;5;241m=\u001b[39m \u001b[43mimportlib\u001b[49m\u001b[38;5;241;43m.\u001b[39;49m\u001b[43mimport_module\u001b[49m\u001b[43m(\u001b[49m\u001b[43mname\u001b[49m\u001b[43m)\u001b[49m\n\u001b[0;32m    136\u001b[0m \u001b[38;5;28;01mexcept\u001b[39;00m \u001b[38;5;167;01mImportError\u001b[39;00m:\n",
      "File \u001b[1;32m~\\AppData\\Local\\Programs\\Python\\Python312\\Lib\\importlib\\__init__.py:90\u001b[0m, in \u001b[0;36mimport_module\u001b[1;34m(name, package)\u001b[0m\n\u001b[0;32m     89\u001b[0m         level \u001b[38;5;241m+\u001b[39m\u001b[38;5;241m=\u001b[39m \u001b[38;5;241m1\u001b[39m\n\u001b[1;32m---> 90\u001b[0m \u001b[38;5;28;01mreturn\u001b[39;00m \u001b[43m_bootstrap\u001b[49m\u001b[38;5;241;43m.\u001b[39;49m\u001b[43m_gcd_import\u001b[49m\u001b[43m(\u001b[49m\u001b[43mname\u001b[49m\u001b[43m[\u001b[49m\u001b[43mlevel\u001b[49m\u001b[43m:\u001b[49m\u001b[43m]\u001b[49m\u001b[43m,\u001b[49m\u001b[43m \u001b[49m\u001b[43mpackage\u001b[49m\u001b[43m,\u001b[49m\u001b[43m \u001b[49m\u001b[43mlevel\u001b[49m\u001b[43m)\u001b[49m\n",
      "File \u001b[1;32m<frozen importlib._bootstrap>:1387\u001b[0m, in \u001b[0;36m_gcd_import\u001b[1;34m(name, package, level)\u001b[0m\n",
      "File \u001b[1;32m<frozen importlib._bootstrap>:1360\u001b[0m, in \u001b[0;36m_find_and_load\u001b[1;34m(name, import_)\u001b[0m\n",
      "File \u001b[1;32m<frozen importlib._bootstrap>:1324\u001b[0m, in \u001b[0;36m_find_and_load_unlocked\u001b[1;34m(name, import_)\u001b[0m\n",
      "\u001b[1;31mModuleNotFoundError\u001b[0m: No module named 'tables'",
      "\nDuring handling of the above exception, another exception occurred:\n",
      "\u001b[1;31mImportError\u001b[0m    Traceback (most recent call last)",
      "Cell \u001b[1;32mIn[16], line 3\u001b[0m\n\u001b[0;32m      1\u001b[0m \u001b[38;5;66;03m# HDF5 - PYTABLES TROUBLE!\u001b[39;00m\n\u001b[0;32m      2\u001b[0m energy \u001b[38;5;241m=\u001b[39m reduce_memory_usage(energy)\n\u001b[1;32m----> 3\u001b[0m \u001b[43menergy\u001b[49m\u001b[38;5;241;43m.\u001b[39;49m\u001b[43mto_hdf\u001b[49m\u001b[43m(\u001b[49m\u001b[38;5;124;43m'\u001b[39;49m\u001b[38;5;124;43menergy.0-20.ready.h5\u001b[39;49m\u001b[38;5;124;43m'\u001b[39;49m\u001b[43m,\u001b[49m\u001b[43m \u001b[49m\u001b[38;5;124;43m\"\u001b[39;49m\u001b[38;5;124;43menergy\u001b[39;49m\u001b[38;5;124;43m\"\u001b[39;49m\u001b[43m,\u001b[49m\u001b[43m \u001b[49m\u001b[38;5;28;43mformat\u001b[39;49m\u001b[38;5;241;43m=\u001b[39;49m\u001b[38;5;124;43m'\u001b[39;49m\u001b[38;5;124;43mtable\u001b[39;49m\u001b[38;5;124;43m'\u001b[39;49m\u001b[43m,\u001b[49m\n\u001b[0;32m      4\u001b[0m \u001b[43m              \u001b[49m\u001b[43mcomplib\u001b[49m\u001b[38;5;241;43m=\u001b[39;49m\u001b[38;5;124;43m'\u001b[39;49m\u001b[38;5;124;43mgzip\u001b[39;49m\u001b[38;5;124;43m'\u001b[39;49m\u001b[43m,\u001b[49m\u001b[43m \u001b[49m\u001b[43mcomplevel\u001b[49m\u001b[38;5;241;43m=\u001b[39;49m\u001b[38;5;241;43m9\u001b[39;49m\u001b[43m,\u001b[49m\u001b[43m \u001b[49m\u001b[43mmode\u001b[49m\u001b[38;5;241;43m=\u001b[39;49m\u001b[38;5;124;43m\"\u001b[39;49m\u001b[38;5;124;43mw\u001b[39;49m\u001b[38;5;124;43m\"\u001b[39;49m\u001b[43m)\u001b[49m\n\u001b[0;32m      5\u001b[0m \u001b[38;5;28mprint\u001b[39m (\u001b[38;5;124m\"\u001b[39m\u001b[38;5;124mCSV:\u001b[39m\u001b[38;5;124m\"\u001b[39m, os\u001b[38;5;241m.\u001b[39mpath\u001b[38;5;241m.\u001b[39mgetsize(os\u001b[38;5;241m.\u001b[39mgetcwd() \u001b[38;5;241m+\u001b[39m \u001b[38;5;124m'\u001b[39m\u001b[38;5;124m\\\u001b[39m\u001b[38;5;124menergy.0-20.ready.csv.gz\u001b[39m\u001b[38;5;124m'\u001b[39m))\n\u001b[0;32m      6\u001b[0m \u001b[38;5;28mprint\u001b[39m (\u001b[38;5;124m\"\u001b[39m\u001b[38;5;124mHDF5:\u001b[39m\u001b[38;5;124m\"\u001b[39m, os\u001b[38;5;241m.\u001b[39mpath\u001b[38;5;241m.\u001b[39mgetsize(os\u001b[38;5;241m.\u001b[39mgetcwd() \u001b[38;5;241m+\u001b[39m \u001b[38;5;124m'\u001b[39m\u001b[38;5;124m\\\u001b[39m\u001b[38;5;124menergy.0-20.ready.h5\u001b[39m\u001b[38;5;124m'\u001b[39m))\n",
      "File \u001b[1;32m~\\AppData\\Local\\Programs\\Python\\Python312\\Lib\\site-packages\\pandas\\util\\_decorators.py:333\u001b[0m, in \u001b[0;36mdeprecate_nonkeyword_arguments.<locals>.decorate.<locals>.wrapper\u001b[1;34m(*args, **kwargs)\u001b[0m\n\u001b[0;32m    327\u001b[0m \u001b[38;5;28;01mif\u001b[39;00m \u001b[38;5;28mlen\u001b[39m(args) \u001b[38;5;241m>\u001b[39m num_allow_args:\n\u001b[0;32m    328\u001b[0m     warnings\u001b[38;5;241m.\u001b[39mwarn(\n\u001b[0;32m    329\u001b[0m         msg\u001b[38;5;241m.\u001b[39mformat(arguments\u001b[38;5;241m=\u001b[39m_format_argument_list(allow_args)),\n\u001b[0;32m    330\u001b[0m         \u001b[38;5;167;01mFutureWarning\u001b[39;00m,\n\u001b[0;32m    331\u001b[0m         stacklevel\u001b[38;5;241m=\u001b[39mfind_stack_level(),\n\u001b[0;32m    332\u001b[0m     )\n\u001b[1;32m--> 333\u001b[0m \u001b[38;5;28;01mreturn\u001b[39;00m \u001b[43mfunc\u001b[49m\u001b[43m(\u001b[49m\u001b[38;5;241;43m*\u001b[39;49m\u001b[43margs\u001b[49m\u001b[43m,\u001b[49m\u001b[43m \u001b[49m\u001b[38;5;241;43m*\u001b[39;49m\u001b[38;5;241;43m*\u001b[39;49m\u001b[43mkwargs\u001b[49m\u001b[43m)\u001b[49m\n",
      "File \u001b[1;32m~\\AppData\\Local\\Programs\\Python\\Python312\\Lib\\site-packages\\pandas\\core\\generic.py:2855\u001b[0m, in \u001b[0;36mNDFrame.to_hdf\u001b[1;34m(self, path_or_buf, key, mode, complevel, complib, append, format, index, min_itemsize, nan_rep, dropna, data_columns, errors, encoding)\u001b[0m\n\u001b[0;32m   2851\u001b[0m \u001b[38;5;28;01mfrom\u001b[39;00m \u001b[38;5;21;01mpandas\u001b[39;00m\u001b[38;5;21;01m.\u001b[39;00m\u001b[38;5;21;01mio\u001b[39;00m \u001b[38;5;28;01mimport\u001b[39;00m pytables\n\u001b[0;32m   2853\u001b[0m \u001b[38;5;66;03m# Argument 3 to \"to_hdf\" has incompatible type \"NDFrame\"; expected\u001b[39;00m\n\u001b[0;32m   2854\u001b[0m \u001b[38;5;66;03m# \"Union[DataFrame, Series]\" [arg-type]\u001b[39;00m\n\u001b[1;32m-> 2855\u001b[0m \u001b[43mpytables\u001b[49m\u001b[38;5;241;43m.\u001b[39;49m\u001b[43mto_hdf\u001b[49m\u001b[43m(\u001b[49m\n\u001b[0;32m   2856\u001b[0m \u001b[43m    \u001b[49m\u001b[43mpath_or_buf\u001b[49m\u001b[43m,\u001b[49m\n\u001b[0;32m   2857\u001b[0m \u001b[43m    \u001b[49m\u001b[43mkey\u001b[49m\u001b[43m,\u001b[49m\n\u001b[0;32m   2858\u001b[0m \u001b[43m    \u001b[49m\u001b[38;5;28;43mself\u001b[39;49m\u001b[43m,\u001b[49m\u001b[43m  \u001b[49m\u001b[38;5;66;43;03m# type: ignore[arg-type]\u001b[39;49;00m\n\u001b[0;32m   2859\u001b[0m \u001b[43m    \u001b[49m\u001b[43mmode\u001b[49m\u001b[38;5;241;43m=\u001b[39;49m\u001b[43mmode\u001b[49m\u001b[43m,\u001b[49m\n\u001b[0;32m   2860\u001b[0m \u001b[43m    \u001b[49m\u001b[43mcomplevel\u001b[49m\u001b[38;5;241;43m=\u001b[39;49m\u001b[43mcomplevel\u001b[49m\u001b[43m,\u001b[49m\n\u001b[0;32m   2861\u001b[0m \u001b[43m    \u001b[49m\u001b[43mcomplib\u001b[49m\u001b[38;5;241;43m=\u001b[39;49m\u001b[43mcomplib\u001b[49m\u001b[43m,\u001b[49m\n\u001b[0;32m   2862\u001b[0m \u001b[43m    \u001b[49m\u001b[43mappend\u001b[49m\u001b[38;5;241;43m=\u001b[39;49m\u001b[43mappend\u001b[49m\u001b[43m,\u001b[49m\n\u001b[0;32m   2863\u001b[0m \u001b[43m    \u001b[49m\u001b[38;5;28;43mformat\u001b[39;49m\u001b[38;5;241;43m=\u001b[39;49m\u001b[38;5;28;43mformat\u001b[39;49m\u001b[43m,\u001b[49m\n\u001b[0;32m   2864\u001b[0m \u001b[43m    \u001b[49m\u001b[43mindex\u001b[49m\u001b[38;5;241;43m=\u001b[39;49m\u001b[43mindex\u001b[49m\u001b[43m,\u001b[49m\n\u001b[0;32m   2865\u001b[0m \u001b[43m    \u001b[49m\u001b[43mmin_itemsize\u001b[49m\u001b[38;5;241;43m=\u001b[39;49m\u001b[43mmin_itemsize\u001b[49m\u001b[43m,\u001b[49m\n\u001b[0;32m   2866\u001b[0m \u001b[43m    \u001b[49m\u001b[43mnan_rep\u001b[49m\u001b[38;5;241;43m=\u001b[39;49m\u001b[43mnan_rep\u001b[49m\u001b[43m,\u001b[49m\n\u001b[0;32m   2867\u001b[0m \u001b[43m    \u001b[49m\u001b[43mdropna\u001b[49m\u001b[38;5;241;43m=\u001b[39;49m\u001b[43mdropna\u001b[49m\u001b[43m,\u001b[49m\n\u001b[0;32m   2868\u001b[0m \u001b[43m    \u001b[49m\u001b[43mdata_columns\u001b[49m\u001b[38;5;241;43m=\u001b[39;49m\u001b[43mdata_columns\u001b[49m\u001b[43m,\u001b[49m\n\u001b[0;32m   2869\u001b[0m \u001b[43m    \u001b[49m\u001b[43merrors\u001b[49m\u001b[38;5;241;43m=\u001b[39;49m\u001b[43merrors\u001b[49m\u001b[43m,\u001b[49m\n\u001b[0;32m   2870\u001b[0m \u001b[43m    \u001b[49m\u001b[43mencoding\u001b[49m\u001b[38;5;241;43m=\u001b[39;49m\u001b[43mencoding\u001b[49m\u001b[43m,\u001b[49m\n\u001b[0;32m   2871\u001b[0m \u001b[43m\u001b[49m\u001b[43m)\u001b[49m\n",
      "File \u001b[1;32m~\\AppData\\Local\\Programs\\Python\\Python312\\Lib\\site-packages\\pandas\\io\\pytables.py:308\u001b[0m, in \u001b[0;36mto_hdf\u001b[1;34m(path_or_buf, key, value, mode, complevel, complib, append, format, index, min_itemsize, nan_rep, dropna, data_columns, errors, encoding)\u001b[0m\n\u001b[0;32m    306\u001b[0m path_or_buf \u001b[38;5;241m=\u001b[39m stringify_path(path_or_buf)\n\u001b[0;32m    307\u001b[0m \u001b[38;5;28;01mif\u001b[39;00m \u001b[38;5;28misinstance\u001b[39m(path_or_buf, \u001b[38;5;28mstr\u001b[39m):\n\u001b[1;32m--> 308\u001b[0m     \u001b[38;5;28;01mwith\u001b[39;00m \u001b[43mHDFStore\u001b[49m\u001b[43m(\u001b[49m\n\u001b[0;32m    309\u001b[0m \u001b[43m        \u001b[49m\u001b[43mpath_or_buf\u001b[49m\u001b[43m,\u001b[49m\u001b[43m \u001b[49m\u001b[43mmode\u001b[49m\u001b[38;5;241;43m=\u001b[39;49m\u001b[43mmode\u001b[49m\u001b[43m,\u001b[49m\u001b[43m \u001b[49m\u001b[43mcomplevel\u001b[49m\u001b[38;5;241;43m=\u001b[39;49m\u001b[43mcomplevel\u001b[49m\u001b[43m,\u001b[49m\u001b[43m \u001b[49m\u001b[43mcomplib\u001b[49m\u001b[38;5;241;43m=\u001b[39;49m\u001b[43mcomplib\u001b[49m\n\u001b[0;32m    310\u001b[0m \u001b[43m    \u001b[49m\u001b[43m)\u001b[49m \u001b[38;5;28;01mas\u001b[39;00m store:\n\u001b[0;32m    311\u001b[0m         f(store)\n\u001b[0;32m    312\u001b[0m \u001b[38;5;28;01melse\u001b[39;00m:\n",
      "File \u001b[1;32m~\\AppData\\Local\\Programs\\Python\\Python312\\Lib\\site-packages\\pandas\\io\\pytables.py:566\u001b[0m, in \u001b[0;36mHDFStore.__init__\u001b[1;34m(self, path, mode, complevel, complib, fletcher32, **kwargs)\u001b[0m\n\u001b[0;32m    563\u001b[0m \u001b[38;5;28;01mif\u001b[39;00m \u001b[38;5;124m\"\u001b[39m\u001b[38;5;124mformat\u001b[39m\u001b[38;5;124m\"\u001b[39m \u001b[38;5;129;01min\u001b[39;00m kwargs:\n\u001b[0;32m    564\u001b[0m     \u001b[38;5;28;01mraise\u001b[39;00m \u001b[38;5;167;01mValueError\u001b[39;00m(\u001b[38;5;124m\"\u001b[39m\u001b[38;5;124mformat is not a defined argument for HDFStore\u001b[39m\u001b[38;5;124m\"\u001b[39m)\n\u001b[1;32m--> 566\u001b[0m tables \u001b[38;5;241m=\u001b[39m \u001b[43mimport_optional_dependency\u001b[49m\u001b[43m(\u001b[49m\u001b[38;5;124;43m\"\u001b[39;49m\u001b[38;5;124;43mtables\u001b[39;49m\u001b[38;5;124;43m\"\u001b[39;49m\u001b[43m)\u001b[49m\n\u001b[0;32m    568\u001b[0m \u001b[38;5;28;01mif\u001b[39;00m complib \u001b[38;5;129;01mis\u001b[39;00m \u001b[38;5;129;01mnot\u001b[39;00m \u001b[38;5;28;01mNone\u001b[39;00m \u001b[38;5;129;01mand\u001b[39;00m complib \u001b[38;5;129;01mnot\u001b[39;00m \u001b[38;5;129;01min\u001b[39;00m tables\u001b[38;5;241m.\u001b[39mfilters\u001b[38;5;241m.\u001b[39mall_complibs:\n\u001b[0;32m    569\u001b[0m     \u001b[38;5;28;01mraise\u001b[39;00m \u001b[38;5;167;01mValueError\u001b[39;00m(\n\u001b[0;32m    570\u001b[0m         \u001b[38;5;124mf\u001b[39m\u001b[38;5;124m\"\u001b[39m\u001b[38;5;124mcomplib only supports \u001b[39m\u001b[38;5;132;01m{\u001b[39;00mtables\u001b[38;5;241m.\u001b[39mfilters\u001b[38;5;241m.\u001b[39mall_complibs\u001b[38;5;132;01m}\u001b[39;00m\u001b[38;5;124m compression.\u001b[39m\u001b[38;5;124m\"\u001b[39m\n\u001b[0;32m    571\u001b[0m     )\n",
      "File \u001b[1;32m~\\AppData\\Local\\Programs\\Python\\Python312\\Lib\\site-packages\\pandas\\compat\\_optional.py:138\u001b[0m, in \u001b[0;36mimport_optional_dependency\u001b[1;34m(name, extra, errors, min_version)\u001b[0m\n\u001b[0;32m    136\u001b[0m \u001b[38;5;28;01mexcept\u001b[39;00m \u001b[38;5;167;01mImportError\u001b[39;00m:\n\u001b[0;32m    137\u001b[0m     \u001b[38;5;28;01mif\u001b[39;00m errors \u001b[38;5;241m==\u001b[39m \u001b[38;5;124m\"\u001b[39m\u001b[38;5;124mraise\u001b[39m\u001b[38;5;124m\"\u001b[39m:\n\u001b[1;32m--> 138\u001b[0m         \u001b[38;5;28;01mraise\u001b[39;00m \u001b[38;5;167;01mImportError\u001b[39;00m(msg)\n\u001b[0;32m    139\u001b[0m     \u001b[38;5;28;01mreturn\u001b[39;00m \u001b[38;5;28;01mNone\u001b[39;00m\n\u001b[0;32m    141\u001b[0m \u001b[38;5;66;03m# Handle submodules: if we have submodule, grab parent module from sys.modules\u001b[39;00m\n",
      "\u001b[1;31mImportError\u001b[0m: Missing optional dependency 'pytables'.  Use pip or conda to install pytables."
     ]
    }
   ],
   "source": [
    "# HDF5 - PYTABLES TROUBLE!\n",
    "energy = reduce_memory_usage(energy)\n",
    "energy.to_hdf('energy.0-20.ready.h5', \"energy\", format='table',\n",
    "              complib='gzip', complevel=9, mode=\"w\")\n",
    "print (\"CSV:\", os.path.getsize(os.getcwd() + '\\energy.0-20.ready.csv.gz'))\n",
    "print (\"HDF5:\", os.path.getsize(os.getcwd() + '\\energy.0-20.ready.h5'))"
   ]
  },
  {
   "cell_type": "code",
   "execution_count": 17,
   "id": "ece9467c-3ed9-4f89-8d5c-b9bdfed5308a",
   "metadata": {},
   "outputs": [
    {
     "ename": "FileNotFoundError",
     "evalue": "File energy.0-20.ready.h5 does not exist",
     "output_type": "error",
     "traceback": [
      "\u001b[1;31m------------------------------------------------\u001b[0m",
      "\u001b[1;31mFileNotFoundError\u001b[0mTraceback (most recent call last)",
      "Cell \u001b[1;32mIn[17], line 2\u001b[0m\n\u001b[0;32m      1\u001b[0m \u001b[38;5;66;03m# HDF5\u001b[39;00m\n\u001b[1;32m----> 2\u001b[0m energy \u001b[38;5;241m=\u001b[39m \u001b[43mpd\u001b[49m\u001b[38;5;241;43m.\u001b[39;49m\u001b[43mread_hdf\u001b[49m\u001b[43m(\u001b[49m\u001b[38;5;124;43m\"\u001b[39;49m\u001b[38;5;124;43menergy.0-20.ready.h5\u001b[39;49m\u001b[38;5;124;43m\"\u001b[39;49m\u001b[43m,\u001b[49m\u001b[43m \u001b[49m\u001b[38;5;124;43m\"\u001b[39;49m\u001b[38;5;124;43menergy\u001b[39;49m\u001b[38;5;124;43m\"\u001b[39;49m\u001b[43m)\u001b[49m\n\u001b[0;32m      3\u001b[0m \u001b[38;5;28mprint\u001b[39m(energy\u001b[38;5;241m.\u001b[39minfo())\n",
      "File \u001b[1;32m~\\AppData\\Local\\Programs\\Python\\Python312\\Lib\\site-packages\\pandas\\io\\pytables.py:424\u001b[0m, in \u001b[0;36mread_hdf\u001b[1;34m(path_or_buf, key, mode, errors, where, start, stop, columns, iterator, chunksize, **kwargs)\u001b[0m\n\u001b[0;32m    421\u001b[0m     exists \u001b[38;5;241m=\u001b[39m \u001b[38;5;28;01mFalse\u001b[39;00m\n\u001b[0;32m    423\u001b[0m \u001b[38;5;28;01mif\u001b[39;00m \u001b[38;5;129;01mnot\u001b[39;00m exists:\n\u001b[1;32m--> 424\u001b[0m     \u001b[38;5;28;01mraise\u001b[39;00m \u001b[38;5;167;01mFileNotFoundError\u001b[39;00m(\u001b[38;5;124mf\u001b[39m\u001b[38;5;124m\"\u001b[39m\u001b[38;5;124mFile \u001b[39m\u001b[38;5;132;01m{\u001b[39;00mpath_or_buf\u001b[38;5;132;01m}\u001b[39;00m\u001b[38;5;124m does not exist\u001b[39m\u001b[38;5;124m\"\u001b[39m)\n\u001b[0;32m    426\u001b[0m store \u001b[38;5;241m=\u001b[39m HDFStore(path_or_buf, mode\u001b[38;5;241m=\u001b[39mmode, errors\u001b[38;5;241m=\u001b[39merrors, \u001b[38;5;241m*\u001b[39m\u001b[38;5;241m*\u001b[39mkwargs)\n\u001b[0;32m    427\u001b[0m \u001b[38;5;66;03m# can't auto open/close if we are using an iterator\u001b[39;00m\n\u001b[0;32m    428\u001b[0m \u001b[38;5;66;03m# so delegate to the iterator\u001b[39;00m\n",
      "\u001b[1;31mFileNotFoundError\u001b[0m: File energy.0-20.ready.h5 does not exist"
     ]
    }
   ],
   "source": [
    "# HDF5\n",
    "energy = pd.read_hdf(\"energy.0-20.ready.h5\", \"energy\")\n",
    "print(energy.info())"
   ]
  },
  {
   "cell_type": "code",
   "execution_count": 13,
   "id": "f7075505-27d4-4982-8048-8e773db12b70",
   "metadata": {},
   "outputs": [],
   "source": [
    "# # HDF5\n",
    "# energy_train, energy_test = train_test_split(energy[energy[\"meter_reading\"] > 0],\n",
    "#                                             test_size=0.2)\n",
    "# print(energy_train.head())\n",
    "# pd.set_option('io.hdf.default_format', \"table\")\n",
    "# store = pd.HDFStore('energy.0-20.ready.split.h5', complevel=9,\n",
    "#                    complib='zlib', mode='w')\n",
    "# store['energy_train'] = energy_train\n",
    "# store['energy_test'] = energy_test\n",
    "# store.put(\"metadata\",\n",
    "#          pd.Series([\"Series of text data for 20 buildings\"]))\n",
    "# store.close()\n",
    "# print (\"HDF5:\", os.path.getsize(os.getcwd() + '\\energy.0-20.ready.split.h5'))"
   ]
  },
  {
   "cell_type": "code",
   "execution_count": 14,
   "id": "c36d9535-fcd7-4afc-be8d-91d28ffb9b64",
   "metadata": {},
   "outputs": [],
   "source": [
    "# # HDF5\n",
    "# store.get_storer('energy_train').attrs.my_attr"
   ]
  },
  {
   "cell_type": "code",
   "execution_count": 15,
   "id": "47d3f4ca-2340-4547-a834-a05f14ba826f",
   "metadata": {},
   "outputs": [],
   "source": [
    "# # HDF5\n",
    "# store = pd.HDFStore(\"energy.0-20.ready.split.h5\")\n",
    "# energy_test = store.get(\"energy_test\")[:]\n",
    "# energy_train = store.get(\"energy_train\")[:]\n",
    "# metadata = store.get(\"metadata\")[:]\n",
    "# store.close()\n",
    "# print(metadata[0])\n",
    "# print(energy_train.head())"
   ]
  },
  {
   "cell_type": "code",
   "execution_count": null,
   "id": "cd6c6870-5103-44c5-8e09-ad3034dd0917",
   "metadata": {},
   "outputs": [],
   "source": []
  }
 ],
 "metadata": {
  "kernelspec": {
   "display_name": "Python 3 (ipykernel)",
   "language": "python",
   "name": "python3"
  },
  "language_info": {
   "codemirror_mode": {
    "name": "ipython",
    "version": 3
   },
   "file_extension": ".py",
   "mimetype": "text/x-python",
   "name": "python",
   "nbconvert_exporter": "python",
   "pygments_lexer": "ipython3",
   "version": "3.12.4"
  }
 },
 "nbformat": 4,
 "nbformat_minor": 5
}
